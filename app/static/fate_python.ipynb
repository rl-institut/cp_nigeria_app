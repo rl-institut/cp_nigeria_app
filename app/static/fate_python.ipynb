{
 "cells": [
  {
   "cell_type": "code",
   "execution_count": 1,
   "id": "a26a9dbc",
   "metadata": {},
   "outputs": [],
   "source": [
    "import numpy as np\n",
    "import pandas as pd"
   ]
  },
  {
   "cell_type": "code",
   "execution_count": null,
   "id": "de719a65",
   "metadata": {},
   "outputs": [],
   "source": [
    "revenue = consumer_sector_wise_connection_fee + consumer_sector_wise_fixed_costs + consumer_sector_wise_metering_costs + consumer_sector_wise_total_sales"
   ]
  },
  {
   "cell_type": "markdown",
   "id": "a4727b78",
   "metadata": {},
   "source": [
    "## Revenue calculation"
   ]
  },
  {
   "cell_type": "code",
   "execution_count": 143,
   "id": "34ad5a80",
   "metadata": {},
   "outputs": [],
   "source": [
    "### constants -- taken from FATE excel 2. Control table rows 139-150\n",
    "# connection fee (NGN/connection)\n",
    "connection_fee = {\"residential\": 5000, \"community\": 4000, \"commercial\": 6000} \n",
    "# fixed costs (NGN/year/user)\n",
    "fixed_costs = {\"residential\": 120, \"community\": 110, \"commercial\": 130} \n",
    "# metering costs (NGN/year/user)\n",
    "metering_costs = {\"residential\": 160, \"community\": 150, \"commercial\": 170} \n",
    "# tariff (NGN/kWh) -- might actually be calculated later with goal seek function\n",
    "tariffs = {\"residential\": 64, \"community\": 64, \"commercial\": 64} "
   ]
  },
  {
   "cell_type": "code",
   "execution_count": 154,
   "id": "c3e9b83f",
   "metadata": {},
   "outputs": [],
   "source": [
    "# nr consumers and energy demand (taken from tool results)\n",
    "nr_consumers = {\"residential\": 24, \"community\": 18, \"commercial\": 7}\n",
    "expected_consumer_increase = 0.02 # FATE 4. Indexation & Financing T34\n",
    "nr_consumers_lifetime = {\"residential\": [nr_consumers[\"residential\"]], \n",
    "                         \"community\": [nr_consumers[\"community\"]], \n",
    "                         \"commercial\": [nr_consumers[\"commercial\"]]}\n",
    "\n",
    "### CAREFUL! in FATE inputs this is actually required as a daily demand, not yearly. It is later multiplied by 365\n",
    "total_demand = {\"residential\": 62*365, \"community\": 105*365, \"commercial\": 21*365}\n",
    "expected_demand_increase = 0.09 # FATE 4. Indexation & Financing\n",
    "total_demand_lifetime = {\"residential\": [total_demand[\"residential\"]], \n",
    "                         \"community\": [total_demand[\"community\"]], \n",
    "                         \"commercial\": [total_demand[\"commercial\"]]}\n",
    "\n",
    "\n",
    "for group, nr in nr_consumers.items():\n",
    "    demand = total_demand[group]\n",
    "    for year in range(2023, 2048):\n",
    "        nr = nr*(1+expected_consumer_increase)\n",
    "        nr_consumers_lifetime[group].append(nr)\n",
    "        demand = demand*(1+expected_demand_increase)\n",
    "        total_demand_lifetime[group].append(demand)\n",
    "    total_demand_lifetime[group] = np.array(total_demand_lifetime[group])\n",
    "        \n",
    "for group, nr_list in nr_consumers_lifetime.items():\n",
    "    nr_consumers_lifetime[group] = np.array([round(nr, 0) for nr in nr_list])"
   ]
  },
  {
   "cell_type": "markdown",
   "id": "0e4072c4",
   "metadata": {},
   "source": [
    "### Tariffs"
   ]
  },
  {
   "cell_type": "code",
   "execution_count": 145,
   "id": "21544eee",
   "metadata": {},
   "outputs": [],
   "source": [
    "expected_tariff_increase = 0.07 # FATE 4. Indexation & Financing T34\n",
    "tariffs_lifetime = {\"residential\": [tariffs[\"residential\"]], \n",
    "                         \"community\": [tariffs[\"community\"]], \n",
    "                         \"commercial\": [tariffs[\"commercial\"]]}\n",
    "\n",
    "for group, tariff in tariffs.items():\n",
    "    for year in range(2023, 2048):\n",
    "        tariff = tariff*(1+expected_tariff_increase)\n",
    "        tariffs_lifetime[group].append(tariff)\n",
    "\n",
    "    tariffs_lifetime[group] = np.array(tariffs_lifetime[group])"
   ]
  },
  {
   "cell_type": "markdown",
   "id": "5bb6bb6d",
   "metadata": {},
   "source": [
    "### Total kWh sales"
   ]
  },
  {
   "cell_type": "code",
   "execution_count": 155,
   "id": "84f985ad",
   "metadata": {},
   "outputs": [
    {
     "data": {
      "text/plain": [
       "{'residential': array([ 64.        ,  68.48      ,  73.2736    ,  78.402752  ,\n",
       "         83.89094464,  89.76331076,  96.04674252, 102.77001449,\n",
       "        109.96391551, 117.66138959, 125.89768687, 134.71052495,\n",
       "        144.14026169, 154.23008001, 165.02618561, 176.57801861,\n",
       "        188.93847991, 202.1641735 , 216.31566565, 231.45776224,\n",
       "        247.6598056 , 264.99599199, 283.54571143, 303.39391123,\n",
       "        324.63148502, 347.35568897]),\n",
       " 'community': array([ 64.        ,  68.48      ,  73.2736    ,  78.402752  ,\n",
       "         83.89094464,  89.76331076,  96.04674252, 102.77001449,\n",
       "        109.96391551, 117.66138959, 125.89768687, 134.71052495,\n",
       "        144.14026169, 154.23008001, 165.02618561, 176.57801861,\n",
       "        188.93847991, 202.1641735 , 216.31566565, 231.45776224,\n",
       "        247.6598056 , 264.99599199, 283.54571143, 303.39391123,\n",
       "        324.63148502, 347.35568897]),\n",
       " 'commercial': array([ 64.        ,  68.48      ,  73.2736    ,  78.402752  ,\n",
       "         83.89094464,  89.76331076,  96.04674252, 102.77001449,\n",
       "        109.96391551, 117.66138959, 125.89768687, 134.71052495,\n",
       "        144.14026169, 154.23008001, 165.02618561, 176.57801861,\n",
       "        188.93847991, 202.1641735 , 216.31566565, 231.45776224,\n",
       "        247.6598056 , 264.99599199, 283.54571143, 303.39391123,\n",
       "        324.63148502, 347.35568897])}"
      ]
     },
     "execution_count": 155,
     "metadata": {},
     "output_type": "execute_result"
    }
   ],
   "source": [
    "tariffs_lifetime"
   ]
  },
  {
   "cell_type": "code",
   "execution_count": 156,
   "id": "8df30f4b",
   "metadata": {},
   "outputs": [
    {
     "data": {
      "text/plain": [
       "{'residential': array([ 22630.        ,  24666.7       ,  26886.703     ,  29306.50627   ,\n",
       "         31944.0918343 ,  34819.06009939,  37952.77550833,  41368.52530408,\n",
       "         45091.69258145,  49149.94491378,  53573.43995602,  58395.04955206,\n",
       "         63650.60401175,  69379.1583728 ,  75623.28262636,  82429.37806273,\n",
       "         89848.02208837,  97934.34407633, 106748.4350432 , 116355.79419709,\n",
       "        126827.81567482, 138242.31908556, 150684.12780326, 164245.69930555,\n",
       "        179027.81224305, 195140.31534492]),\n",
       " 'community': array([ 38325.        ,  41774.25      ,  45533.9325    ,  49631.986425  ,\n",
       "         54098.86520325,  58967.76307154,  64274.86174798,  70059.5993053 ,\n",
       "         76364.96324278,  83237.80993463,  90729.21282874,  98894.84198333,\n",
       "        107795.37776183, 117496.96176039, 128071.68831883, 139598.14026752,\n",
       "        152161.9728916 , 165856.55045185, 180783.63999251, 197054.16759184,\n",
       "        214789.0426751 , 234120.05651586, 255190.86160229, 278158.0391465 ,\n",
       "        303192.26266968, 330479.56630995]),\n",
       " 'commercial': array([ 7665.        ,  8354.85      ,  9106.7865    ,  9926.397285  ,\n",
       "        10819.77304065, 11793.55261431, 12854.9723496 , 14011.91986106,\n",
       "        15272.99264856, 16647.56198693, 18145.84256575, 19778.96839667,\n",
       "        21559.07555237, 23499.39235208, 25614.33766377, 27919.6280535 ,\n",
       "        30432.39457832, 33171.31009037, 36156.7279985 , 39410.83351837,\n",
       "        42957.80853502, 46824.01130317, 51038.17232046, 55631.6078293 ,\n",
       "        60638.45253394, 66095.91326199])}"
      ]
     },
     "execution_count": 156,
     "metadata": {},
     "output_type": "execute_result"
    }
   ],
   "source": [
    "total_demand_lifetime"
   ]
  },
  {
   "cell_type": "code",
   "execution_count": 164,
   "id": "0fb28ad8",
   "metadata": {},
   "outputs": [
    {
     "data": {
      "text/plain": [
       "{'residential': array([       0.        ,  1689175.616     ,  1970085.5209408 ,\n",
       "         2297710.74307326,  2679820.03964634,  3125474.11223953,\n",
       "         3645240.45710496,  4251443.94512151,  4958459.07319522,\n",
       "         5783050.81706759,  6744772.16794593,  7866427.77947534,\n",
       "         9174614.71920209, 10700353.1470054 , 12479821.8753524 ,\n",
       "        14555216.2532235 , 16975748.71613457, 19798815.72762775,\n",
       "        23091358.78313226, 26931451.74876715, 31410152.17458714,\n",
       "        36633660.48122098, 42725838.21924803, 49831145.11510899,\n",
       "        58118064.54775162, 67783098.68204273]),\n",
       " 'community': array([0.00000000e+00, 2.86070064e+06, 3.33643516e+06, 3.89128432e+06,\n",
       "        4.53840491e+06, 5.29314164e+06, 6.17339110e+06, 7.20002604e+06,\n",
       "        8.39739037e+06, 9.79387638e+06, 1.14225980e+07, 1.33221761e+07,\n",
       "        1.55376540e+07, 1.81215658e+07, 2.11351822e+07, 2.46499630e+07,\n",
       "        2.87492519e+07, 3.35302524e+07, 3.91063334e+07, 4.56097167e+07,\n",
       "        5.31946126e+07, 6.20408766e+07, 7.23582744e+07, 8.43914554e+07,\n",
       "        9.84257545e+07, 1.14793957e+08]),\n",
       " 'commercial': array([       0.        ,   572140.128     ,   667287.0312864 ,\n",
       "          778256.86458933,   907680.98117053,  1058628.32833919,\n",
       "         1234678.219342  ,  1440005.20721858,  1679478.07317903,\n",
       "         1958775.2767487 ,  2284519.60527201,  2664435.21562874,\n",
       "         3107530.7919878 ,  3624313.16269538,  4227036.44165162,\n",
       "         4929992.60189828,  5749850.37159397,  6706050.48839005,\n",
       "         7821266.68460931,  9121943.33425984, 10638922.51074726,\n",
       "        12408175.32428453, 14471654.88071305, 16878291.08737563,\n",
       "        19685150.8952062 , 22958791.48907899])}"
      ]
     },
     "execution_count": 164,
     "metadata": {},
     "output_type": "execute_result"
    }
   ],
   "source": [
    "consumer_sector_wise_total_sales = {}\n",
    "for group in tariffs_lifetime:\n",
    "    consumer_sector_wise_total_sales[group] = tariffs_lifetime[group]*total_demand_lifetime[group]\n",
    "    consumer_sector_wise_total_sales[group][0] = 0\n",
    "    \n",
    "consumer_sector_wise_total_sales"
   ]
  },
  {
   "cell_type": "markdown",
   "id": "d11c0927",
   "metadata": {},
   "source": [
    "### Connection fees per year "
   ]
  },
  {
   "cell_type": "code",
   "execution_count": 86,
   "id": "6d93bfec",
   "metadata": {
    "scrolled": true
   },
   "outputs": [],
   "source": [
    "# calculate number of new consumers\n",
    "new_consumers_lifetime = {group: np.diff(nr_consumers_lifetime[group]) for group in nr_consumers_lifetime}\n",
    "\n",
    "# add initial consumer number to year 0\n",
    "for group in new_consumers_lifetime:\n",
    "    new_consumers_lifetime[group] = np.insert(new_consumers_lifetime[group], 0, nr_consumers[group]) "
   ]
  },
  {
   "cell_type": "code",
   "execution_count": 87,
   "id": "36255364",
   "metadata": {},
   "outputs": [
    {
     "data": {
      "text/plain": [
       "array([24., 24., 25., 25., 26., 26., 27., 28., 28., 29., 29., 30., 30.,\n",
       "       31., 32., 32., 33., 34., 34., 35., 36., 36., 37., 38., 39., 39.])"
      ]
     },
     "execution_count": 87,
     "metadata": {},
     "output_type": "execute_result"
    }
   ],
   "source": [
    "nr_consumers_lifetime[\"residential\"]"
   ]
  },
  {
   "cell_type": "code",
   "execution_count": 88,
   "id": "ee3f77c3",
   "metadata": {},
   "outputs": [
    {
     "data": {
      "text/plain": [
       "array([24.,  0.,  1.,  0.,  1.,  0.,  1.,  1.,  0.,  1.,  0.,  1.,  0.,\n",
       "        1.,  1.,  0.,  1.,  1.,  0.,  1.,  1.,  0.,  1.,  1.,  1.,  0.])"
      ]
     },
     "execution_count": 88,
     "metadata": {},
     "output_type": "execute_result"
    }
   ],
   "source": [
    "new_consumers_lifetime[\"residential\"]"
   ]
  },
  {
   "cell_type": "code",
   "execution_count": 90,
   "id": "227414a5",
   "metadata": {},
   "outputs": [],
   "source": [
    "# general cost indexation\n",
    "cost_index = 0.1 #inflation rate (taken as constant for Nigeria - FATE 4. Indexation & Financing T19)\n",
    "indexation = 1\n",
    "general_cost_indexation = [indexation]\n",
    "\n",
    "for year in range(2023, 2048):\n",
    "    indexation = indexation*(1+cost_index)\n",
    "    general_cost_indexation.append(indexation)\n",
    "    \n",
    "general_cost_indexation = np.array(general_cost_indexation)"
   ]
  },
  {
   "cell_type": "code",
   "execution_count": 92,
   "id": "217649b7",
   "metadata": {},
   "outputs": [],
   "source": [
    "### this dict should contain the same data as the table in Data Mini Grid rows 33-36\n",
    "# connection fee for each new consumer (all in year 0 and growing according to pop. growth)\n",
    "consumer_sector_wise_connection_fee = {group: new_consumers_lifetime[group]*connection_fee[group]*general_cost_indexation \n",
    "                                       for group in nr_consumers_lifetime}"
   ]
  },
  {
   "cell_type": "code",
   "execution_count": 93,
   "id": "cd173661",
   "metadata": {
    "scrolled": false
   },
   "outputs": [
    {
     "data": {
      "text/plain": [
       "{'residential': array([120000.        ,      0.        ,   6050.        ,      0.        ,\n",
       "          7320.5       ,      0.        ,   8857.805     ,   9743.5855    ,\n",
       "             0.        ,  11789.738455  ,      0.        ,  14265.58353055,\n",
       "             0.        ,  17261.35607197,  18987.49167916,      0.        ,\n",
       "         22974.86493179,  25272.35142496,      0.        ,  30579.54522421,\n",
       "         33637.49974663,      0.        ,  40701.37469342,  44771.51216276,\n",
       "         49248.66337904,      0.        ]),\n",
       " 'community': array([72000.        ,     0.        ,  4840.        ,     0.        ,\n",
       "            0.        ,  6442.04      ,     0.        ,  7794.8684    ,\n",
       "            0.        ,  9431.790764  ,     0.        ,     0.        ,\n",
       "        12553.71350688,     0.        , 15189.99334333,     0.        ,\n",
       "        18379.89194543,     0.        , 22239.66925397,     0.        ,\n",
       "        26909.9997973 ,     0.        , 32561.09975474,     0.        ,\n",
       "        39398.93070323, 43338.82377355]),\n",
       " 'commercial': array([42000.        ,     0.        ,     0.        ,     0.        ,\n",
       "         8784.6       ,     0.        ,     0.        ,     0.        ,\n",
       "            0.        ,     0.        , 15562.4547606 ,     0.        ,\n",
       "            0.        ,     0.        ,     0.        ,     0.        ,\n",
       "        27569.83791814,     0.        ,     0.        ,     0.        ,\n",
       "            0.        , 44401.49966555,     0.        ,     0.        ,\n",
       "            0.        ,     0.        ])}"
      ]
     },
     "execution_count": 93,
     "metadata": {},
     "output_type": "execute_result"
    }
   ],
   "source": [
    "consumer_sector_wise_connection_fee"
   ]
  },
  {
   "cell_type": "markdown",
   "id": "e7a0acbf",
   "metadata": {},
   "source": [
    "### Fixed costs"
   ]
  },
  {
   "cell_type": "code",
   "execution_count": 112,
   "id": "38aa0877",
   "metadata": {},
   "outputs": [],
   "source": [
    "# fixed charges indexation \n",
    "cost_index = 0.065 # FATE 4. Indexation & Financing T19 - it is possible to set these as different for each group, double check our approach\n",
    "fixed_costs_lifetime = {\"residential\": [fixed_costs[\"residential\"]], \n",
    "                         \"community\": [fixed_costs[\"community\"]], \n",
    "                         \"commercial\": [fixed_costs[\"commercial\"]]}\n",
    "\n",
    "for group, costs in fixed_costs.items():\n",
    "    for year in range(2023, 2048):\n",
    "        costs = costs*(1+cost_index)\n",
    "        fixed_costs_lifetime[group].append(costs)\n",
    "    # set the starting year costs to 0\n",
    "    fixed_costs_lifetime[group][0] = 0\n",
    "    fixed_costs_lifetime[group] = np.array(fixed_costs_lifetime[group])"
   ]
  },
  {
   "cell_type": "code",
   "execution_count": 108,
   "id": "826963da",
   "metadata": {},
   "outputs": [],
   "source": [
    "### this dict should contain the same data as the table in Data Mini Grid rows 39-41\n",
    "# the 12 is because the costs are apparently monthly, even though in the input sheet they are described as yearly\n",
    "# (yearly in control table, monthly in indexation and financing)\n",
    "consumer_sector_wise_fixed_costs = {group: (nr_consumers[group]+new_consumers_lifetime[group])*12*fixed_costs_lifetime[group] \n",
    "                                       for group in nr_consumers_lifetime} "
   ]
  },
  {
   "cell_type": "code",
   "execution_count": 110,
   "id": "6a3af7d5",
   "metadata": {},
   "outputs": [
    {
     "data": {
      "text/plain": [
       "{'residential': array([     0.        ,  36806.4       ,  40832.1       ,  41746.73904   ,\n",
       "         46312.7886225 ,  47350.19508764,  52529.12267536,  55943.51564925,\n",
       "         57196.6503998 ,  63452.53403727,  64873.87079971,  71969.45041843,\n",
       "         73581.5661078 ,  81629.54990084,  86935.4706444 ,  88882.82518683,\n",
       "         98604.38419164, 105013.6691641 , 107365.97535337, 119109.12890765,\n",
       "        126851.22228664, 129692.68966586, 143877.82759807, 153229.88639194,\n",
       "        163189.82900742, 166845.28117719]),\n",
       " 'community': array([     0.        ,  25304.4       ,  28446.363     ,  28700.88309   ,\n",
       "         30566.44049085,  34361.77351846,  34669.22096573,  38973.98256898,\n",
       "         39322.69714986,  44205.2653793 ,  44600.7861748 ,  47499.83727616,\n",
       "         53397.73373795,  53875.50293455,  60565.04454893,  61106.94231595,\n",
       "         68694.38765351,  69309.0216483 ,  77914.8918363 ,  78612.02507905,\n",
       "         88373.01819303,  89163.72414528, 100234.88655999, 101131.72501868,\n",
       "        113688.9142085 , 121078.69363205]),\n",
       " 'commercial': array([    0.        , 11629.8       , 12385.737     , 13190.809905  ,\n",
       "        16055.1000558 , 14961.3463645 , 15933.83387819, 16969.53308027,\n",
       "        18072.55273049, 19247.26865797, 23426.67556656, 21830.73329359,\n",
       "        23249.73095767, 24760.96346992, 26370.42609547, 28084.50379167,\n",
       "        34182.85318643, 31854.14631311, 33924.66582346, 36129.76910199,\n",
       "        38478.20409362, 46833.47126823, 43642.94103808, 46479.73220556,\n",
       "        49500.91479892, 52718.47426085])}"
      ]
     },
     "execution_count": 110,
     "metadata": {},
     "output_type": "execute_result"
    }
   ],
   "source": [
    "consumer_sector_wise_fixed_costs"
   ]
  },
  {
   "cell_type": "markdown",
   "id": "4ed8848d",
   "metadata": {},
   "source": [
    "### Metering costs"
   ]
  },
  {
   "cell_type": "code",
   "execution_count": 113,
   "id": "930bfa41",
   "metadata": {},
   "outputs": [],
   "source": [
    "# metering costs indexation \n",
    "cost_index = 0.065 # FATE 4. Indexation & Financing T26 - it is possible to set these as different for each group, double check our approach\n",
    "metering_costs_lifetime = {\"residential\": [metering_costs[\"residential\"]], \n",
    "                         \"community\": [metering_costs[\"community\"]], \n",
    "                         \"commercial\": [metering_costs[\"commercial\"]]}\n",
    "\n",
    "for group, costs in metering_costs.items():\n",
    "    for year in range(2023, 2048):\n",
    "        costs = costs*(1+cost_index)\n",
    "        metering_costs_lifetime[group].append(costs)\n",
    "    # set the starting year costs to 0\n",
    "    metering_costs_lifetime[group][0] = 0\n",
    "    metering_costs_lifetime[group] = np.array(metering_costs_lifetime[group])"
   ]
  },
  {
   "cell_type": "code",
   "execution_count": 115,
   "id": "21fb69ea",
   "metadata": {},
   "outputs": [],
   "source": [
    "### this dict should contain the same data as the table in Data Mini Grid rows 45-48\n",
    "# the 12 is because the costs are apparently monthly, even though in the input sheet they are described as yearly\n",
    "# (yearly in control table, monthly in indexation and financing)\n",
    "consumer_sector_wise_metering_costs = {group: (nr_consumers[group]+new_consumers_lifetime[group])*12*metering_costs_lifetime[group] \n",
    "                                       for group in nr_consumers_lifetime} "
   ]
  },
  {
   "cell_type": "code",
   "execution_count": 116,
   "id": "b95f6556",
   "metadata": {},
   "outputs": [
    {
     "data": {
      "text/plain": [
       "{'residential': array([     0.        ,  49075.2       ,  54442.8       ,  55662.31872   ,\n",
       "         61750.38483   ,  63133.59345019,  70038.83023381,  74591.354199  ,\n",
       "         76262.20053306,  84603.37871637,  86498.49439961,  95959.26722457,\n",
       "         98108.7548104 , 108839.39986779, 115913.96085919, 118510.43358244,\n",
       "        131472.51225552, 140018.22555213, 143154.6338045 , 158812.17187686,\n",
       "        169134.96304886, 172923.58622115, 191837.10346409, 204306.51518926,\n",
       "        217586.43867656, 222460.37490291]),\n",
       " 'community': array([     0.        ,  34506.        ,  38790.495     ,  39137.56785   ,\n",
       "         41681.50976025,  46856.96388881,  47276.21040782,  53146.33986679,\n",
       "         53621.85974981,  60279.90733541,  60819.25387473,  64772.50537658,\n",
       "         72815.09146084,  73466.59491076,  82588.69711218,  83327.64861265,\n",
       "         93674.16498206,  94512.30224769, 106247.57977677, 107198.21601688,\n",
       "        120508.66117231, 121586.89656175, 136683.93621816, 137906.89775275,\n",
       "        155030.33755705, 165107.30949826]),\n",
       " 'commercial': array([    0.        , 15208.2       , 16196.733     , 17249.520645  ,\n",
       "        20995.1308422 , 19564.83755358, 20836.55199456, 22190.9278742 ,\n",
       "        23633.33818603, 25169.50516812, 30634.8834332 , 28547.88199931,\n",
       "        30403.49432926, 32379.72146067, 34484.40335561, 36725.88957372,\n",
       "        44700.65416688, 41655.42210176, 44363.02453837, 47246.62113337,\n",
       "        50317.65150704, 61243.77011999, 57071.53828057, 60781.1882688 ,\n",
       "        64731.96550628, 68939.54326418])}"
      ]
     },
     "execution_count": 116,
     "metadata": {},
     "output_type": "execute_result"
    }
   ],
   "source": [
    "consumer_sector_wise_metering_costs"
   ]
  },
  {
   "cell_type": "code",
   "execution_count": 183,
   "id": "cbefe7c6",
   "metadata": {},
   "outputs": [
    {
     "data": {
      "text/plain": [
       "{'residential': array([       0.        ,  1689175.616     ,  1970085.5209408 ,\n",
       "         2297710.74307326,  2679820.03964634,  3125474.11223953,\n",
       "         3645240.45710496,  4251443.94512151,  4958459.07319522,\n",
       "         5783050.81706759,  6744772.16794593,  7866427.77947534,\n",
       "         9174614.71920209, 10700353.1470054 , 12479821.8753524 ,\n",
       "        14555216.2532235 , 16975748.71613457, 19798815.72762775,\n",
       "        23091358.78313226, 26931451.74876715, 31410152.17458714,\n",
       "        36633660.48122098, 42725838.21924803, 49831145.11510899,\n",
       "        58118064.54775162, 67783098.68204273]),\n",
       " 'community': array([0.00000000e+00, 2.86070064e+06, 3.33643516e+06, 3.89128432e+06,\n",
       "        4.53840491e+06, 5.29314164e+06, 6.17339110e+06, 7.20002604e+06,\n",
       "        8.39739037e+06, 9.79387638e+06, 1.14225980e+07, 1.33221761e+07,\n",
       "        1.55376540e+07, 1.81215658e+07, 2.11351822e+07, 2.46499630e+07,\n",
       "        2.87492519e+07, 3.35302524e+07, 3.91063334e+07, 4.56097167e+07,\n",
       "        5.31946126e+07, 6.20408766e+07, 7.23582744e+07, 8.43914554e+07,\n",
       "        9.84257545e+07, 1.14793957e+08]),\n",
       " 'commercial': array([       0.        ,   572140.128     ,   667287.0312864 ,\n",
       "          778256.86458933,   907680.98117053,  1058628.32833919,\n",
       "         1234678.219342  ,  1440005.20721858,  1679478.07317903,\n",
       "         1958775.2767487 ,  2284519.60527201,  2664435.21562874,\n",
       "         3107530.7919878 ,  3624313.16269538,  4227036.44165162,\n",
       "         4929992.60189828,  5749850.37159397,  6706050.48839005,\n",
       "         7821266.68460931,  9121943.33425984, 10638922.51074726,\n",
       "        12408175.32428453, 14471654.88071305, 16878291.08737563,\n",
       "        19685150.8952062 , 22958791.48907899])}"
      ]
     },
     "execution_count": 183,
     "metadata": {},
     "output_type": "execute_result"
    }
   ],
   "source": [
    "consumer_sector_wise_total_sales"
   ]
  },
  {
   "cell_type": "code",
   "execution_count": 177,
   "id": "a6065cdd",
   "metadata": {},
   "outputs": [],
   "source": [
    "revenue = {}\n",
    "for group in consumer_sector_wise_connection_fee:\n",
    "    revenue[group] = consumer_sector_wise_connection_fee[group] + consumer_sector_wise_fixed_costs[group] + consumer_sector_wise_metering_costs[group] + consumer_sector_wise_total_sales[group]"
   ]
  },
  {
   "cell_type": "code",
   "execution_count": 195,
   "id": "3ffb5173",
   "metadata": {},
   "outputs": [],
   "source": [
    "total_revenue = np.sum(list(revenue.values()), axis=0)"
   ]
  },
  {
   "cell_type": "code",
   "execution_count": 196,
   "id": "04953d4c",
   "metadata": {},
   "outputs": [
    {
     "data": {
      "text/plain": [
       "array([2.34000000e+05, 5.29454638e+06, 6.17579194e+06, 7.16293977e+06,\n",
       "       8.35937238e+06, 9.70991483e+06, 1.13034513e+07, 1.31708293e+07,\n",
       "       1.53034368e+07, 1.78538819e+07, 2.07783062e+07, 2.41978843e+07,\n",
       "       2.81839096e+07, 3.28384452e+07, 3.82830760e+07, 4.45518101e+07,\n",
       "       5.20151045e+07, 6.05427538e+07, 7.05541693e+07, 8.22407992e+07,\n",
       "       9.58978985e+07, 1.11748558e+08, 1.30302378e+08, 1.51849499e+08,\n",
       "       1.77081346e+08, 2.06376336e+08])"
      ]
     },
     "execution_count": 196,
     "metadata": {},
     "output_type": "execute_result"
    }
   ],
   "source": [
    "total_revenue"
   ]
  },
  {
   "cell_type": "code",
   "execution_count": null,
   "id": "65f82f35",
   "metadata": {},
   "outputs": [],
   "source": []
  }
 ],
 "metadata": {
  "kernelspec": {
   "display_name": "Python 3",
   "language": "python",
   "name": "python3"
  },
  "language_info": {
   "codemirror_mode": {
    "name": "ipython",
    "version": 3
   },
   "file_extension": ".py",
   "mimetype": "text/x-python",
   "name": "python",
   "nbconvert_exporter": "python",
   "pygments_lexer": "ipython3",
   "version": "3.8.8"
  }
 },
 "nbformat": 4,
 "nbformat_minor": 5
}
